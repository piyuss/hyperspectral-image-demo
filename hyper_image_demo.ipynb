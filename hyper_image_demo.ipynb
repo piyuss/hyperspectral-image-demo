{
  "nbformat": 4,
  "nbformat_minor": 0,
  "metadata": {
    "colab": {
      "name": "hyper_image_demo.ipynb",
      "provenance": [],
      "authorship_tag": "ABX9TyNnVCCmITascKHuooeWC3zy",
      "include_colab_link": true
    },
    "kernelspec": {
      "name": "python3",
      "display_name": "Python 3"
    },
    "language_info": {
      "name": "python"
    }
  },
  "cells": [
    {
      "cell_type": "markdown",
      "metadata": {
        "id": "view-in-github",
        "colab_type": "text"
      },
      "source": [
        "<a href=\"https://colab.research.google.com/github/piyuss/hyperspectral-image-demo/blob/main/hyper_image_demo.ipynb\" target=\"_parent\"><img src=\"https://colab.research.google.com/assets/colab-badge.svg\" alt=\"Open In Colab\"/></a>"
      ]
    },
    {
      "cell_type": "markdown",
      "metadata": {
        "id": "P6hT23oY0imQ"
      },
      "source": [
        "#Tutorial: Hyperspectral Image Analysis\n",
        "\n",
        "In this tutorial, we will go through some common steps in hyperspectral image processing. First, let's download the files we will work with. Hyperspectral data tends to run the code cell below by clicking on the **Play icon** to the left of the cell. You can also run the cell by clicking on the cell and pressing **CTRL/CMD+ENTER**."
      ]
    },
    {
      "cell_type": "code",
      "metadata": {
        "id": "QVEfZjb9uNoT"
      },
      "source": [
        "!wget https://www.dropbox.com/sh/n6823u5i4mpc7dq/AAA5GmrwOR-AqsdyOxH47k60a?dl=1"
      ],
      "execution_count": null,
      "outputs": []
    },
    {
      "cell_type": "code",
      "metadata": {
        "colab": {
          "base_uri": "https://localhost:8080/"
        },
        "id": "O-CCvOYs1TZZ",
        "outputId": "c6dca87d-2e6c-4a2b-fca7-bd82de517605"
      },
      "source": [
        "!ls"
      ],
      "execution_count": 10,
      "outputs": [
        {
          "output_type": "stream",
          "text": [
            "'AAA5GmrwOR-AqsdyOxH47k60a?dl=0'   sample_data\n"
          ],
          "name": "stdout"
        }
      ]
    }
  ]
}