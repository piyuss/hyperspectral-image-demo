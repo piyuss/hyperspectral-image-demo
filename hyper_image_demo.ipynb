{
  "nbformat": 4,
  "nbformat_minor": 0,
  "metadata": {
    "colab": {
      "name": "hyper_image_demo.ipynb",
      "provenance": [],
      "collapsed_sections": [],
      "authorship_tag": "ABX9TyM+Tf5F6kWuCM0Mx+FLrP0p",
      "include_colab_link": true
    },
    "kernelspec": {
      "name": "python3",
      "display_name": "Python 3"
    },
    "language_info": {
      "name": "python"
    }
  },
  "cells": [
    {
      "cell_type": "markdown",
      "metadata": {
        "id": "view-in-github",
        "colab_type": "text"
      },
      "source": [
        "<a href=\"https://colab.research.google.com/github/piyuss/hyperspectral-image-demo/blob/main/hyper_image_demo.ipynb\" target=\"_parent\"><img src=\"https://colab.research.google.com/assets/colab-badge.svg\" alt=\"Open In Colab\"/></a>"
      ]
    },
    {
      "cell_type": "markdown",
      "metadata": {
        "id": "P6hT23oY0imQ"
      },
      "source": [
        "#Tutorial: Hyperspectral Image Analysis\n",
        "\n",
        "In this tutorial, we will go through steps in hyperspectral image processing using plant images as demo images. First, let's download the files we will work with. Hyperspectral image files tend to be large and will take a while to download. Run the code cell below by clicking on the **Play icon** to the left of the cell. You can also run the cell by clicking on the cell and pressing **CTRL/CMD+ENTER**."
      ]
    },
    {
      "cell_type": "code",
      "metadata": {
        "id": "XizI9BhU-nqW"
      },
      "source": [
        "!wget -O download.zip https://www.dropbox.com/s/s21q6uoococleai/images.zip?dl=1\n",
        "!unzip download.zip"
      ],
      "execution_count": null,
      "outputs": []
    },
    {
      "cell_type": "markdown",
      "metadata": {
        "id": "3sM0k6_AW4RJ"
      },
      "source": [
        "Let us look at the files that we downloaded. "
      ]
    },
    {
      "cell_type": "code",
      "metadata": {
        "colab": {
          "base_uri": "https://localhost:8080/"
        },
        "id": "a0M1xhLYHAJU",
        "outputId": "f12dd624-e40b-4378-934e-7e3013c458f3"
      },
      "source": [
        "from glob import glob #Function to retrieve filenames from directory\n",
        "file_list = glob(\"images/\" + \"*.*\", recursive = True)\n",
        "print(\"List of filenames:\", file_list)"
      ],
      "execution_count": 85,
      "outputs": [
        {
          "output_type": "stream",
          "text": [
            "List of filenames: ['images/N0_A_B.bil', 'images/N8_A_B.bil.hdr', 'images/N8_A_B.bil', 'images/N0_A_B.bil.hdr']\n"
          ],
          "name": "stdout"
        }
      ]
    },
    {
      "cell_type": "markdown",
      "metadata": {
        "id": "FD6wl0wiXFGZ"
      },
      "source": [
        "We have two different types of files in the directory:\n",
        "1. BIL files are binary files containing uncompressed image pixel data. BIL files simply store pixel values row-wise for each channel. We need additional information on the number of rows, columns, and bands to read the BIL files.\n",
        "2. HDR files, or header files, contain the information about the BIL files.\n",
        "\n",
        "<p align=\"center\"> <img src= \"https://github.com/piyuss/hyperspectral-image-demo/blob/main/illustrations/bil_format.PNG?raw=true\">\n",
        "\n",
        "<p align=\"center\"> <i> Structure of a Band Interleaved by Line (BIL) file\n",
        "\n",
        "\n",
        "**Image source:** https://desktop.arcgis.com/en/arcmap/10.3/manage-data/raster-and-images/bil-bip-and-bsq-raster-files.htm +\n",
        "\n",
        "+ *This link will also be useful to read about other image formats you may come across depending on the type of data and the sensor you are using*"
      ]
    },
    {
      "cell_type": "markdown",
      "metadata": {
        "id": "9VGMNiZKx-DS"
      },
      "source": [
        "We can look at the size of these files to understand that one is a huge binary file and the other is a text file with metadata."
      ]
    },
    {
      "cell_type": "code",
      "metadata": {
        "colab": {
          "base_uri": "https://localhost:8080/"
        },
        "id": "iT8VJ8V8x8Rz",
        "outputId": "32197c4b-af1c-4d93-88ef-d87558cfc55b"
      },
      "source": [
        "import os\n",
        "print(\"The size of \", file_list[0], \" is \", os.path.getsize (file_list[0]), \"bytes.\")\n",
        "print(\"The size of \", file_list[1], \" is \", os.path.getsize (file_list[1]), \"bytes.\")"
      ],
      "execution_count": 113,
      "outputs": [
        {
          "output_type": "stream",
          "text": [
            "The size of  images/N0_A_B.bil  is  2956800000 bytes.\n",
            "The size of  images/N8_A_B.bil.hdr  is  4053 bytes\n"
          ],
          "name": "stdout"
        }
      ]
    },
    {
      "cell_type": "markdown",
      "metadata": {
        "id": "tmM_1qlheZjW"
      },
      "source": [
        "Let us look at one of the header files to understand the file format before we read in the data."
      ]
    },
    {
      "cell_type": "code",
      "metadata": {
        "colab": {
          "base_uri": "https://localhost:8080/"
        },
        "id": "K9uZh_HtWJFL",
        "outputId": "3982ae20-fa80-4094-cb27-690b722cf5bd"
      },
      "source": [
        "import pandas as pd\n",
        "header_file = pd.read_table(file_list[1], names=None)\n",
        "print(header_file)"
      ],
      "execution_count": 83,
      "outputs": [
        {
          "output_type": "stream",
          "text": [
            "                                                 ENVI\n",
            "0                                    interleave = bil\n",
            "1                                      data type = 12\n",
            "2                                        lines = 2000\n",
            "3                                      samples = 1600\n",
            "4                                         bands = 462\n",
            "5                                      bit depth = 12\n",
            "6                                      ceiling = 4095\n",
            "7                                  sample binning = 1\n",
            "8                                spectral binning = 2\n",
            "9                                    line binning = 1\n",
            "10                                    shutter = 19.56\n",
            "11                                         gain = 0.0\n",
            "12                     framerate = 50.090162292125825\n",
            "13                   imager serial number = 100124-73\n",
            "14                                     byte order = 0\n",
            "15                                  header offset = 0\n",
            "16  wavelength = {389.63, 390.95, 392.27, 393.58, ...\n",
            "17                              wavelength units = nm\n",
            "18                                     label = N8_A_B\n",
            "19        rotation = [(0, 0), (0, 1), (1, 0), (1, 1)]\n"
          ],
          "name": "stdout"
        }
      ]
    },
    {
      "cell_type": "markdown",
      "metadata": {
        "id": "ZnYCOU5Xg1X7"
      },
      "source": [
        "The header file contains everything one would like to know about the image. The size of the image can be deduced from lines, samples, and bands. The bit depth and byte order can be important depending on how we decide to read in the data. \n",
        "\n",
        "From the first line of the header file, we learn that the format of the header is ENVI. Detailed information about this format can be found here: https://www.l3harrisgeospatial.com/docs/enviheaderfiles.html\n",
        "\n",
        "**INCLUDE AN IMAGE SHOWING WHAT THE LINES, SAMPLES, AND BANDS MEAN.**"
      ]
    },
    {
      "cell_type": "markdown",
      "metadata": {
        "id": "_H6WsjofoQuj"
      },
      "source": [
        "We can use this information and write a program to read BIL files, but a smarter way is to use existing libraries. For this demonstration, we are going to use the open source Spectral Python (SPy) Library which is designed for hyperspectral image analysis. The documentation for the library is here: http://www.spectralpython.net/\n",
        "\n",
        "The source code is here: https://github.com/spectralpython \n",
        "\n",
        "While the specific functions will be different depending on the library used, the general principles remain the same. SPy has a lot of nice abstractions. The user can read most common hyperspectral image formats with just the filename. Functions are provided for many common image operations so that almost everything can be achieved with a basic knowledge of Python and its libraries for scientific computing such as Numpy. Resources for learning Python are everywhere; one free resource that I recommend is here: https://greenteapress.com/wp/think-python/\n",
        "\n",
        "We will first install SPy using the Python Package Index (PyPi) and import it."
      ]
    },
    {
      "cell_type": "code",
      "metadata": {
        "id": "6nOFCbFfffRY"
      },
      "source": [
        "!pip install spectral\n",
        "from spectral import *"
      ],
      "execution_count": null,
      "outputs": []
    },
    {
      "cell_type": "markdown",
      "metadata": {
        "id": "ixmQXyJnupZz"
      },
      "source": [
        "To read a file with an ENVI header, SPy provides a special function:"
      ]
    },
    {
      "cell_type": "code",
      "metadata": {
        "id": "FL7rOCKntUlV"
      },
      "source": [
        "img = envi.open(file_list[1])"
      ],
      "execution_count": 89,
      "outputs": []
    },
    {
      "cell_type": "markdown",
      "metadata": {
        "id": "poB8YJT9uwsD"
      },
      "source": [
        "You will notice that envi.open() function was extremely fast. This is because the hyperspectral data is not read into the computer's memory; only the metadata in the header file has been read in. However, we can use the object img to extract information abou the image as well as to extract specific channels or pixels.\n",
        "\n",
        "It supports common Numpy methods and operators.\n",
        "\n",
        "We can check the dimensions of the image:"
      ]
    },
    {
      "cell_type": "code",
      "metadata": {
        "colab": {
          "base_uri": "https://localhost:8080/"
        },
        "id": "KqRVFUP7um3A",
        "outputId": "c070cc29-329b-4ef0-ac24-25ff474eef83"
      },
      "source": [
        "img.shape"
      ],
      "execution_count": 94,
      "outputs": [
        {
          "output_type": "execute_result",
          "data": {
            "text/plain": [
              "(2000, 1600, 462)"
            ]
          },
          "metadata": {
            "tags": []
          },
          "execution_count": 94
        }
      ]
    },
    {
      "cell_type": "markdown",
      "metadata": {
        "id": "rp2PVflbwnBR"
      },
      "source": [
        "We can inspect the image intensity at the 200th row and 1000th column of the 100th channel:"
      ]
    },
    {
      "cell_type": "code",
      "metadata": {
        "colab": {
          "base_uri": "https://localhost:8080/"
        },
        "id": "FbSPifgbv-GB",
        "outputId": "b4d8a3c8-c3e4-400b-aa92-d2959830df0c"
      },
      "source": [
        "img[200,1000,100]"
      ],
      "execution_count": 107,
      "outputs": [
        {
          "output_type": "execute_result",
          "data": {
            "text/plain": [
              "732"
            ]
          },
          "metadata": {
            "tags": []
          },
          "execution_count": 107
        }
      ]
    },
    {
      "cell_type": "code",
      "metadata": {
        "id": "KFwvArIiw1U7"
      },
      "source": [
        ""
      ],
      "execution_count": null,
      "outputs": []
    },
    {
      "cell_type": "markdown",
      "metadata": {
        "id": "dyHywFiXxI-f"
      },
      "source": [
        "Now that we are able to access the numbers in the hyperspectral image cube, we can begin to do more interesting things. Before we start doing that, it is a good idea to read the entire image into memory so that operations can be faster. Until now, the program read values into memory only when specifically requested with the subscript ([]) notation. You can check the RAM usage of your Colab session from the menu on the top right now and after we run the next code cell to see that the image is read into memory only when the load() method is used. It is a good idea to be mindful of the size of your data, the computer's memory, and how it is being used when dealing with such large files"
      ]
    },
    {
      "cell_type": "code",
      "metadata": {
        "id": "KkXdFRdSuMO0"
      },
      "source": [
        "arr = img.load()"
      ],
      "execution_count": 91,
      "outputs": []
    },
    {
      "cell_type": "code",
      "metadata": {
        "colab": {
          "base_uri": "https://localhost:8080/"
        },
        "id": "GrlRkXCduNGO",
        "outputId": "d69e2dff-8279-46e8-be54-46fc7c52a125"
      },
      "source": [
        "arr.shape"
      ],
      "execution_count": 92,
      "outputs": [
        {
          "output_type": "execute_result",
          "data": {
            "text/plain": [
              "(2000, 1600, 462)"
            ]
          },
          "metadata": {
            "tags": []
          },
          "execution_count": 92
        }
      ]
    },
    {
      "cell_type": "code",
      "metadata": {
        "colab": {
          "base_uri": "https://localhost:8080/"
        },
        "id": "uclx7ijmwKk9",
        "outputId": "15133ebc-fef2-4db1-d37c-7ff5257af04d"
      },
      "source": [
        "np.where(arr==np.max(arr))"
      ],
      "execution_count": 102,
      "outputs": [
        {
          "output_type": "execute_result",
          "data": {
            "text/plain": [
              "(array([145]), array([1025]), array([122]))"
            ]
          },
          "metadata": {
            "tags": []
          },
          "execution_count": 102
        }
      ]
    }
  ]
}